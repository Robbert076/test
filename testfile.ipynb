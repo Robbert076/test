{
 "cells": [
  {
   "cell_type": "code",
   "execution_count": 1,
   "id": "7fe23271",
   "metadata": {},
   "outputs": [],
   "source": [
    "def index():\n",
    "    return 'Hello world'"
   ]
  },
  {
   "cell_type": "code",
   "execution_count": 2,
   "id": "374ae50e",
   "metadata": {},
   "outputs": [
    {
     "data": {
      "text/plain": [
       "'Hello world'"
      ]
     },
     "execution_count": 2,
     "metadata": {},
     "output_type": "execute_result"
    }
   ],
   "source": [
    "index()"
   ]
  }
 ],
 "metadata": {
  "kernelspec": {
   "display_name": "Python 3 (ipykernel)",
   "language": "python",
   "name": "python3"
  },
  "language_info": {
   "codemirror_mode": {
    "name": "ipython",
    "version": 3
   },
   "file_extension": ".py",
   "mimetype": "text/x-python",
   "name": "python",
   "nbconvert_exporter": "python",
   "pygments_lexer": "ipython3",
   "version": "3.8.5"
  }
 },
 "nbformat": 4,
 "nbformat_minor": 5
}

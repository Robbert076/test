{
 "cells": [
  {
   "cell_type": "code",
   "execution_count": 6,
   "id": "8713674b",
   "metadata": {},
   "outputs": [],
   "source": [
    "from flask import Flask\n",
    "import os"
   ]
  },
  {
   "cell_type": "code",
   "execution_count": 7,
   "id": "0f1dd6e7",
   "metadata": {},
   "outputs": [],
   "source": [
    "app = Flask(__name__)"
   ]
  },
  {
   "cell_type": "code",
   "execution_count": null,
   "id": "7b160cd4",
   "metadata": {},
   "outputs": [
    {
     "name": "stdout",
     "output_type": "stream",
     "text": [
      " * Serving Flask app '__main__' (lazy loading)\n",
      " * Environment: production\n",
      "   WARNING: This is a development server. Do not use it in a production deployment.\n",
      "   Use a production WSGI server instead.\n",
      " * Debug mode: off\n"
     ]
    },
    {
     "name": "stderr",
     "output_type": "stream",
     "text": [
      " * Running on all addresses.\n",
      "   WARNING: This is a development server. Do not use it in a production deployment.\n",
      " * Running on http://192.168.178.122:5000/ (Press CTRL+C to quit)\n",
      "192.168.178.122 - - [31/Jan/2022 13:38:08] \"GET / HTTP/1.1\" 200 -\n",
      "192.168.178.122 - - [31/Jan/2022 13:38:08] \"GET /favicon.ico HTTP/1.1\" 404 -\n",
      "192.168.178.122 - - [31/Jan/2022 13:38:18] \"GET / HTTP/1.1\" 200 -\n",
      "192.168.178.122 - - [31/Jan/2022 13:38:19] \"GET / HTTP/1.1\" 200 -\n",
      "192.168.178.122 - - [31/Jan/2022 13:38:19] \"GET / HTTP/1.1\" 200 -\n",
      "192.168.178.122 - - [31/Jan/2022 13:38:19] \"GET / HTTP/1.1\" 200 -\n",
      "192.168.178.122 - - [31/Jan/2022 13:38:19] \"GET / HTTP/1.1\" 200 -\n"
     ]
    }
   ],
   "source": [
    "@app.route(\"/\")\n",
    "def index():\n",
    "    return 'Hello world'\n",
    "\n",
    "if __name__ == \"__main__\":\n",
    "    port = int(os.environ.get(\"PORT\", 5000))\n",
    "    app.run(host='0.0.0.0', port=port)"
   ]
  },
  {
   "cell_type": "code",
   "execution_count": null,
   "id": "0e4f120f",
   "metadata": {},
   "outputs": [],
   "source": []
  }
 ],
 "metadata": {
  "kernelspec": {
   "display_name": "Python 3 (ipykernel)",
   "language": "python",
   "name": "python3"
  },
  "language_info": {
   "codemirror_mode": {
    "name": "ipython",
    "version": 3
   },
   "file_extension": ".py",
   "mimetype": "text/x-python",
   "name": "python",
   "nbconvert_exporter": "python",
   "pygments_lexer": "ipython3",
   "version": "3.8.5"
  }
 },
 "nbformat": 4,
 "nbformat_minor": 5
}
